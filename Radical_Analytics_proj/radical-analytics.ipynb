{
 "cells": [
  {
   "cell_type": "code",
   "execution_count": 1,
   "metadata": {},
   "outputs": [],
   "source": [
    "import sys\n",
    "import glob\n",
    "import numpy as np\n",
    "import matplotlib.pyplot as plt\n",
    "import radical.utils as ru\n",
    "import radical.pilot as rp\n",
    "import radical.analytics as ra "
   ]
  },
  {
   "cell_type": "code",
   "execution_count": 2,
   "metadata": {},
   "outputs": [],
   "source": [
    "stype = \"radical.pilot\"\n",
    "count = 1\n",
    "total_duration = 0\n",
    "durations_list_strong = []\n",
    "durations_means_strong = []\n",
    "durations_std_strong = []\n",
    "durations_list_weak = []\n",
    "durations_means_weak = []\n",
    "durations_std_weak = []"
   ]
  },
  {
   "cell_type": "code",
   "execution_count": 3,
   "metadata": {},
   "outputs": [],
   "source": [
    "\n",
    "for i in glob.glob(\"StrongScaling/*/*\"):\n",
    "    if(not i.endswith(\"log\")):\n",
    "        session = ra.Session(i, stype)    # print the PMGR_ACTIVE and FINAL timestamp for each pilot\n",
    "        pilots = session.filter(etype='pilot', inplace=False)\n",
    "        duration = pilots.duration([rp.PMGR_ACTIVE, rp.FINAL])\n",
    "        if(duration == 0):\n",
    "            if(not total_duration == 0):\n",
    "                duration = total_duration/count\n",
    "            else:\n",
    "                duration = total_duration[0]\n",
    "        total_duration += duration\n",
    "        \n",
    "        if(count == 4):\n",
    "            #reset the graph\n",
    "            count = 0\n",
    "            durations_list_strong.append(total_duration/4)\n",
    "            total_duration = 0\n",
    "        count += 1\n",
    "cores = [20,40,80]"
   ]
  },
  {
   "cell_type": "code",
   "execution_count": 4,
   "metadata": {},
   "outputs": [
    {
     "name": "stdout",
     "output_type": "stream",
     "text": [
      "WARNING: profile \"WeakScaling/weak-40c/rp.session.smic002.ksiddhan.017815.0020/pmgr.0000.launching.0.child.prof\" not correctly closed.\n",
      "WARNING: profile \"WeakScaling/weak-40c/rp.session.smic002.ksiddhan.017815.0020/pmgr.0000.launching.0.child.prof\" not correctly closed.\n"
     ]
    }
   ],
   "source": [
    "stype = \"radical.pilot\"\n",
    "count = 1\n",
    "total_duration = 0\n",
    "durations_list = []\n",
    "durations_means = []\n",
    "durations_std = []\n",
    "for i in glob.glob(\"WeakScaling/*/*\"):\n",
    "    if(not i.endswith(\"log\")):\n",
    "        session = ra.Session(i, stype)    # print the PMGR_ACTIVE and FINAL timestamp for each pilot\n",
    "        pilots = session.filter(etype='pilot', inplace=False)\n",
    "        duration = pilots.duration([rp.PMGR_ACTIVE, rp.FINAL])\n",
    "        if(duration == 0):\n",
    "            if(not total_duration == 0):\n",
    "                duration = total_duration/count\n",
    "            else:\n",
    "                duration = total_duration[0]\n",
    "        total_duration += duration\n",
    "        \n",
    "        if(count == 4):\n",
    "            #reset the graph\n",
    "            count = 0\n",
    "            durations_list_weak.append(total_duration/4)\n",
    "            total_duration = 0\n",
    "        count += 1\n",
    "cores = [20,40,80]"
   ]
  },
  {
   "cell_type": "code",
   "execution_count": 5,
   "metadata": {},
   "outputs": [
    {
     "data": {
      "image/png": "[encoded data removed]",
      "text/plain": [
       "<Figure size 432x288 with 1 Axes>"
      ]
     },
     "metadata": {
      "needs_background": "light"
     },
     "output_type": "display_data"
    }
   ],
   "source": [
    "durations_means_strong = sum(durations_list_strong)/len(durations_list_strong)\n",
    "durations_std_strong[:] = [x - durations_means_strong for x in durations_list_strong]\n",
    "ind = np.arange(len(durations_list_strong))  # the x locations for the groups\n",
    "width = 0.35       # the width of the bars\n",
    "\n",
    "fig, ax = plt.subplots()\n",
    "rects1 = ax.bar(ind, durations_means_strong, width, color='r', yerr=durations_std_strong)\n",
    " \n",
    "plt.show()"
   ]
  },
  {
   "cell_type": "code",
   "execution_count": 6,
   "metadata": {},
   "outputs": [
    {
     "data": {
      "image/png": "[encoded data removed]",
      "text/plain": [
       "<Figure size 432x288 with 1 Axes>"
      ]
     },
     "metadata": {
      "needs_background": "light"
     },
     "output_type": "display_data"
    }
   ],
   "source": [
    "durations_means_weak = sum(durations_list_weak)/len(durations_list_weak)\n",
    "durations_std_weak[:] = [x - durations_means_weak for x in durations_list_weak]\n",
    "ind = np.arange(len(durations_list_weak))  # the x locations for the groups\n",
    "width = 0.35       # the width of the bars\n",
    "\n",
    "fig, ax = plt.subplots()\n",
    "rects1 = ax.bar(ind, durations_means_weak, width, color='r', yerr=durations_std_weak)\n",
    " \n",
    "plt.show()"
   ]
  }
 ],
 "metadata": {
  "kernelspec": {
   "display_name": "Python 2",
   "language": "python",
   "name": "python2"
  },
  "language_info": {
   "codemirror_mode": {
    "name": "ipython",
    "version": 2
   },
   "file_extension": ".py",
   "mimetype": "text/x-python",
   "name": "python",
   "nbconvert_exporter": "python",
   "pygments_lexer": "ipython2",
   "version": "2.7.15rc1"
  }
 },
 "nbformat": 4,
 "nbformat_minor": 2
}
